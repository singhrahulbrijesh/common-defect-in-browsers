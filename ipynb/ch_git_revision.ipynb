{
 "cells": [
  {
   "cell_type": "code",
   "execution_count": 2,
   "metadata": {},
   "outputs": [],
   "source": [
    "import pandas as pd\n",
    "import numpy as np\n",
    "import csv\n",
    "import os"
   ]
  },
  {
   "cell_type": "code",
   "execution_count": 28,
   "metadata": {},
   "outputs": [],
   "source": [
    "dfGitRev = pd.read_csv(\"../../ch_git_revision.csv\")"
   ]
  },
  {
   "cell_type": "code",
   "execution_count": 29,
   "metadata": {},
   "outputs": [
    {
     "name": "stderr",
     "output_type": "stream",
     "text": [
      "/tmp/ipykernel_5142/773015420.py:1: SettingWithCopyWarning: \n",
      "A value is trying to be set on a copy of a slice from a DataFrame\n",
      "\n",
      "See the caveats in the documentation: https://pandas.pydata.org/pandas-docs/stable/user_guide/indexing.html#returning-a-view-versus-a-copy\n",
      "  dfGitRev['component_id'].loc[:] = None\n"
     ]
    },
    {
     "data": {
      "text/html": [
       "<div>\n",
       "<style scoped>\n",
       "    .dataframe tbody tr th:only-of-type {\n",
       "        vertical-align: middle;\n",
       "    }\n",
       "\n",
       "    .dataframe tbody tr th {\n",
       "        vertical-align: top;\n",
       "    }\n",
       "\n",
       "    .dataframe thead th {\n",
       "        text-align: right;\n",
       "    }\n",
       "</style>\n",
       "<table border=\"1\" class=\"dataframe\">\n",
       "  <thead>\n",
       "    <tr style=\"text-align: right;\">\n",
       "      <th></th>\n",
       "      <th>commit</th>\n",
       "      <th>path</th>\n",
       "      <th>dir</th>\n",
       "      <th>component_id</th>\n",
       "    </tr>\n",
       "  </thead>\n",
       "  <tbody>\n",
       "    <tr>\n",
       "      <th>0</th>\n",
       "      <td>8ced33be1ee63e589afff6f9229b36fe73cfd0f9</td>\n",
       "      <td>src/base/thread_collision_warner.h</td>\n",
       "      <td>src/base/</td>\n",
       "      <td>NaN</td>\n",
       "    </tr>\n",
       "    <tr>\n",
       "      <th>1</th>\n",
       "      <td>8ced33be1ee63e589afff6f9229b36fe73cfd0f9</td>\n",
       "      <td>src/base/thread_collision_warner_unittest.cc</td>\n",
       "      <td>src/base/</td>\n",
       "      <td>NaN</td>\n",
       "    </tr>\n",
       "    <tr>\n",
       "      <th>2</th>\n",
       "      <td>8ced33be1ee63e589afff6f9229b36fe73cfd0f9</td>\n",
       "      <td>src/base/thread_local_storage_posix.cc</td>\n",
       "      <td>src/base/</td>\n",
       "      <td>NaN</td>\n",
       "    </tr>\n",
       "    <tr>\n",
       "      <th>3</th>\n",
       "      <td>8ced33be1ee63e589afff6f9229b36fe73cfd0f9</td>\n",
       "      <td>src/base/thread_local_storage_unittest.cc</td>\n",
       "      <td>src/base/</td>\n",
       "      <td>NaN</td>\n",
       "    </tr>\n",
       "    <tr>\n",
       "      <th>4</th>\n",
       "      <td>8ced33be1ee63e589afff6f9229b36fe73cfd0f9</td>\n",
       "      <td>src/base/thread_local_storage_win.cc</td>\n",
       "      <td>src/base/</td>\n",
       "      <td>NaN</td>\n",
       "    </tr>\n",
       "  </tbody>\n",
       "</table>\n",
       "</div>"
      ],
      "text/plain": [
       "                                     commit  \\\n",
       "0  8ced33be1ee63e589afff6f9229b36fe73cfd0f9   \n",
       "1  8ced33be1ee63e589afff6f9229b36fe73cfd0f9   \n",
       "2  8ced33be1ee63e589afff6f9229b36fe73cfd0f9   \n",
       "3  8ced33be1ee63e589afff6f9229b36fe73cfd0f9   \n",
       "4  8ced33be1ee63e589afff6f9229b36fe73cfd0f9   \n",
       "\n",
       "                                           path        dir  component_id  \n",
       "0            src/base/thread_collision_warner.h  src/base/           NaN  \n",
       "1  src/base/thread_collision_warner_unittest.cc  src/base/           NaN  \n",
       "2        src/base/thread_local_storage_posix.cc  src/base/           NaN  \n",
       "3     src/base/thread_local_storage_unittest.cc  src/base/           NaN  \n",
       "4          src/base/thread_local_storage_win.cc  src/base/           NaN  "
      ]
     },
     "execution_count": 29,
     "metadata": {},
     "output_type": "execute_result"
    }
   ],
   "source": [
    "dfGitRev['component_id'].loc[:] = None\n",
    "dfGitRev.head()"
   ]
  },
  {
   "cell_type": "code",
   "execution_count": 30,
   "metadata": {
    "scrolled": true
   },
   "outputs": [
    {
     "data": {
      "text/html": [
       "<div>\n",
       "<style scoped>\n",
       "    .dataframe tbody tr th:only-of-type {\n",
       "        vertical-align: middle;\n",
       "    }\n",
       "\n",
       "    .dataframe tbody tr th {\n",
       "        vertical-align: top;\n",
       "    }\n",
       "\n",
       "    .dataframe thead th {\n",
       "        text-align: right;\n",
       "    }\n",
       "</style>\n",
       "<table border=\"1\" class=\"dataframe\">\n",
       "  <thead>\n",
       "    <tr style=\"text-align: right;\">\n",
       "      <th></th>\n",
       "      <th>component_id</th>\n",
       "      <th>component_name</th>\n",
       "    </tr>\n",
       "  </thead>\n",
       "  <tbody>\n",
       "    <tr>\n",
       "      <th>86</th>\n",
       "      <td>193</td>\n",
       "      <td>gpu</td>\n",
       "    </tr>\n",
       "    <tr>\n",
       "      <th>87</th>\n",
       "      <td>199</td>\n",
       "      <td>docs</td>\n",
       "    </tr>\n",
       "    <tr>\n",
       "      <th>88</th>\n",
       "      <td>236</td>\n",
       "      <td>profile</td>\n",
       "    </tr>\n",
       "    <tr>\n",
       "      <th>89</th>\n",
       "      <td>238</td>\n",
       "      <td>reporting</td>\n",
       "    </tr>\n",
       "    <tr>\n",
       "      <th>90</th>\n",
       "      <td>239</td>\n",
       "      <td>search</td>\n",
       "    </tr>\n",
       "  </tbody>\n",
       "</table>\n",
       "</div>"
      ],
      "text/plain": [
       "    component_id component_name\n",
       "86           193            gpu\n",
       "87           199           docs\n",
       "88           236        profile\n",
       "89           238      reporting\n",
       "90           239         search"
      ]
     },
     "execution_count": 30,
     "metadata": {},
     "output_type": "execute_result"
    }
   ],
   "source": [
    "dfComp = pd.read_csv(\"../../ch_component.csv\")\n",
    "dfComp.tail()"
   ]
  },
  {
   "cell_type": "code",
   "execution_count": 31,
   "metadata": {},
   "outputs": [
    {
     "name": "stdout",
     "output_type": "stream",
     "text": [
      "chromeos -- 215\n"
     ]
    }
   ],
   "source": [
    "dir_path = \"content/chromeos/graph/\"\n",
    "dir_path = dir_path.rstrip('/')\n",
    "dirs = dir_path.split('/')\n",
    "dirs = dirs[::-1]\n",
    "\n",
    "for d in dirs:\n",
    "    if dfComp['component_name'].str.contains(d).any():\n",
    "        print(f\"{d} -- {dfComp.iloc[0]['component_id']}\")\n",
    "        break;"
   ]
  },
  {
   "cell_type": "markdown",
   "metadata": {},
   "source": [
    "## Label dfGitRev with component_id"
   ]
  },
  {
   "cell_type": "code",
   "execution_count": 32,
   "metadata": {},
   "outputs": [],
   "source": [
    "import re\n",
    "\n",
    "# Define a function to update the component_name and component_id columns of a row in df1 based on a match in df2\n",
    "def update_component(row, dfComp):\n",
    "    # Create a dictionary mapping component_name to component_id from dfComp\n",
    "    component_id_mapping = dfComp.set_index('component_name')['component_id'].to_dict()\n",
    "    \n",
    "    dir_path = row['dir']\n",
    "    # Skip rows where the dir column is not a string or is empty\n",
    "    if not isinstance(dir_path, str) or not dir_path:\n",
    "        return row\n",
    "    \n",
    "    dir_path = dir_path.rstrip('/') # Remove if there is any '/' at the end of the path string\n",
    "    dirs = dir_path.split('/') # Take the directories into an array\n",
    "    dirs = dirs[::-1] # Reverting the array\n",
    "    for d in dirs:\n",
    "        for comp_name, comp_id in component_id_mapping.items():\n",
    "            if re.match(f\"^{comp_name}.*\", d):\n",
    "                row['component_id'] = component_id_mapping[comp_name]\n",
    "                break\n",
    "        if row['component_id'] > 0:\n",
    "            break;\n",
    "    return row\n",
    "\n",
    "# Apply the update_component function to each row of df1 and update the component_name and component_id columns\n",
    "dfGitRev = dfGitRev.apply(lambda r: update_component(r, dfComp), axis=1)"
   ]
  },
  {
   "cell_type": "code",
   "execution_count": 41,
   "metadata": {},
   "outputs": [],
   "source": [
    "# Print the updated DataFrame\n",
    "dfGitRevLabeled = dfGitRev.dropna(subset=['component_id'])\n",
    "dfGitRevLabeled.to_csv('../../ch_git_revision_labaled.csv')"
   ]
  },
  {
   "cell_type": "code",
   "execution_count": 45,
   "metadata": {
    "scrolled": true
   },
   "outputs": [
    {
     "data": {
      "text/html": [
       "<div>\n",
       "<style scoped>\n",
       "    .dataframe tbody tr th:only-of-type {\n",
       "        vertical-align: middle;\n",
       "    }\n",
       "\n",
       "    .dataframe tbody tr th {\n",
       "        vertical-align: top;\n",
       "    }\n",
       "\n",
       "    .dataframe thead th {\n",
       "        text-align: right;\n",
       "    }\n",
       "</style>\n",
       "<table border=\"1\" class=\"dataframe\">\n",
       "  <thead>\n",
       "    <tr style=\"text-align: right;\">\n",
       "      <th></th>\n",
       "      <th>commit</th>\n",
       "      <th>path</th>\n",
       "      <th>dir</th>\n",
       "      <th>component_id</th>\n",
       "    </tr>\n",
       "  </thead>\n",
       "  <tbody>\n",
       "    <tr>\n",
       "      <th>12</th>\n",
       "      <td>8ced33be1ee63e589afff6f9229b36fe73cfd0f9</td>\n",
       "      <td>src/chrome/app/theme/back.png</td>\n",
       "      <td>src/chrome/app/theme/</td>\n",
       "      <td>147.0</td>\n",
       "    </tr>\n",
       "    <tr>\n",
       "      <th>38</th>\n",
       "      <td>8ced33be1ee63e589afff6f9229b36fe73cfd0f9</td>\n",
       "      <td>src/chrome/app/chrome_dll_app_mode_mac.mm</td>\n",
       "      <td>src/chrome/app/</td>\n",
       "      <td>147.0</td>\n",
       "    </tr>\n",
       "    <tr>\n",
       "      <th>39</th>\n",
       "      <td>8ced33be1ee63e589afff6f9229b36fe73cfd0f9</td>\n",
       "      <td>src/chrome/app/chrome_dll_main.cc</td>\n",
       "      <td>src/chrome/app/</td>\n",
       "      <td>147.0</td>\n",
       "    </tr>\n",
       "    <tr>\n",
       "      <th>40</th>\n",
       "      <td>8ced33be1ee63e589afff6f9229b36fe73cfd0f9</td>\n",
       "      <td>src/chrome/app/chrome_dll_resource.h</td>\n",
       "      <td>src/chrome/app/</td>\n",
       "      <td>147.0</td>\n",
       "    </tr>\n",
       "    <tr>\n",
       "      <th>41</th>\n",
       "      <td>8ced33be1ee63e589afff6f9229b36fe73cfd0f9</td>\n",
       "      <td>src/chrome/app/chrome_dll_version.rc.version</td>\n",
       "      <td>src/chrome/app/</td>\n",
       "      <td>147.0</td>\n",
       "    </tr>\n",
       "    <tr>\n",
       "      <th>...</th>\n",
       "      <td>...</td>\n",
       "      <td>...</td>\n",
       "      <td>...</td>\n",
       "      <td>...</td>\n",
       "    </tr>\n",
       "    <tr>\n",
       "      <th>6009688</th>\n",
       "      <td>8e749ebccf72b5e3c12f8565a3421b8261d7db20</td>\n",
       "      <td>src/chrome/browser/ui/views/login_view.h</td>\n",
       "      <td>src/chrome/browser/ui/views/</td>\n",
       "      <td>54.0</td>\n",
       "    </tr>\n",
       "    <tr>\n",
       "      <th>6009689</th>\n",
       "      <td>8e749ebccf72b5e3c12f8565a3421b8261d7db20</td>\n",
       "      <td>src/chrome/browser/ui/webui/conflicts_ui.h</td>\n",
       "      <td>src/chrome/browser/ui/webui/</td>\n",
       "      <td>3.0</td>\n",
       "    </tr>\n",
       "    <tr>\n",
       "      <th>6009690</th>\n",
       "      <td>8e749ebccf72b5e3c12f8565a3421b8261d7db20</td>\n",
       "      <td>src/chrome/browser/ui/webui/favicon_source.h</td>\n",
       "      <td>src/chrome/browser/ui/webui/</td>\n",
       "      <td>3.0</td>\n",
       "    </tr>\n",
       "    <tr>\n",
       "      <th>6009691</th>\n",
       "      <td>8e749ebccf72b5e3c12f8565a3421b8261d7db20</td>\n",
       "      <td>src/chrome/browser/ui/webui/html_dialog_ui.cc</td>\n",
       "      <td>src/chrome/browser/ui/webui/</td>\n",
       "      <td>3.0</td>\n",
       "    </tr>\n",
       "    <tr>\n",
       "      <th>6009693</th>\n",
       "      <td>9219b2c5d4bf974429c2072ab4e0e673fcfc0113</td>\n",
       "      <td>docs/mac_lld.md</td>\n",
       "      <td>docs/</td>\n",
       "      <td>199.0</td>\n",
       "    </tr>\n",
       "  </tbody>\n",
       "</table>\n",
       "<p>4570756 rows × 4 columns</p>\n",
       "</div>"
      ],
      "text/plain": [
       "                                           commit  \\\n",
       "12       8ced33be1ee63e589afff6f9229b36fe73cfd0f9   \n",
       "38       8ced33be1ee63e589afff6f9229b36fe73cfd0f9   \n",
       "39       8ced33be1ee63e589afff6f9229b36fe73cfd0f9   \n",
       "40       8ced33be1ee63e589afff6f9229b36fe73cfd0f9   \n",
       "41       8ced33be1ee63e589afff6f9229b36fe73cfd0f9   \n",
       "...                                           ...   \n",
       "6009688  8e749ebccf72b5e3c12f8565a3421b8261d7db20   \n",
       "6009689  8e749ebccf72b5e3c12f8565a3421b8261d7db20   \n",
       "6009690  8e749ebccf72b5e3c12f8565a3421b8261d7db20   \n",
       "6009691  8e749ebccf72b5e3c12f8565a3421b8261d7db20   \n",
       "6009693  9219b2c5d4bf974429c2072ab4e0e673fcfc0113   \n",
       "\n",
       "                                                  path  \\\n",
       "12                       src/chrome/app/theme/back.png   \n",
       "38           src/chrome/app/chrome_dll_app_mode_mac.mm   \n",
       "39                   src/chrome/app/chrome_dll_main.cc   \n",
       "40                src/chrome/app/chrome_dll_resource.h   \n",
       "41        src/chrome/app/chrome_dll_version.rc.version   \n",
       "...                                                ...   \n",
       "6009688       src/chrome/browser/ui/views/login_view.h   \n",
       "6009689     src/chrome/browser/ui/webui/conflicts_ui.h   \n",
       "6009690   src/chrome/browser/ui/webui/favicon_source.h   \n",
       "6009691  src/chrome/browser/ui/webui/html_dialog_ui.cc   \n",
       "6009693                                docs/mac_lld.md   \n",
       "\n",
       "                                  dir  component_id  \n",
       "12              src/chrome/app/theme/         147.0  \n",
       "38                    src/chrome/app/         147.0  \n",
       "39                    src/chrome/app/         147.0  \n",
       "40                    src/chrome/app/         147.0  \n",
       "41                    src/chrome/app/         147.0  \n",
       "...                               ...           ...  \n",
       "6009688  src/chrome/browser/ui/views/          54.0  \n",
       "6009689  src/chrome/browser/ui/webui/           3.0  \n",
       "6009690  src/chrome/browser/ui/webui/           3.0  \n",
       "6009691  src/chrome/browser/ui/webui/           3.0  \n",
       "6009693                         docs/         199.0  \n",
       "\n",
       "[4570756 rows x 4 columns]"
      ]
     },
     "execution_count": 45,
     "metadata": {},
     "output_type": "execute_result"
    }
   ],
   "source": [
    "dfGitRevLabeled"
   ]
  },
  {
   "cell_type": "code",
   "execution_count": 46,
   "metadata": {},
   "outputs": [
    {
     "data": {
      "text/plain": [
       "0"
      ]
     },
     "execution_count": 46,
     "metadata": {},
     "output_type": "execute_result"
    }
   ],
   "source": [
    "dfGitRevLabeled['component_id'].isnull().sum()"
   ]
  },
  {
   "cell_type": "code",
   "execution_count": 47,
   "metadata": {},
   "outputs": [],
   "source": [
    "#import re\n",
    "#\n",
    "## Define a function to extract the third last word of a string\n",
    "#def extract_third_last_word(s):\n",
    "#    if isinstance(s, str):\n",
    "#        words = re.findall(r'\\b\\w+\\b', s)\n",
    "#        if len(words) > 2:\n",
    "#            return words[-3]\n",
    "#    return ''\n",
    "#\n",
    "## Define a function to update the component_name and component_id columns of a row in df1 based on a match in df2\n",
    "#def update_component(row):\n",
    "#    # Skip rows where the dir column is not a string or is empty\n",
    "#    if not isinstance(row['dir'], str) or not row['dir']:\n",
    "#        return row\n",
    "#    # Look for a match in df2 based on the third last word of the directory path in df1\n",
    "#    match = df2[df2['name'].str.contains(extract_third_last_word(row['dir']))]\n",
    "#    if not match.empty and pd.isnull(row['component_id']):\n",
    "#        # If a match is found and the component_id is NaN, update the component_name and component_id columns\n",
    "#        row['component_name'] = match.iloc[0]['name']\n",
    "#        row['component_id'] = match.iloc[0]['id']\n",
    "#    return row\n",
    "#\n",
    "## Apply the update_component function to each row of df1 and update the component_name and component_id columns\n",
    "#df1 = df1.apply(update_component, axis=1)\n",
    "#\n",
    "## Print the updated DataFrame\n",
    "#print(df1)"
   ]
  }
 ],
 "metadata": {
  "kernelspec": {
   "display_name": "Python 3",
   "language": "python",
   "name": "python3"
  },
  "language_info": {
   "codemirror_mode": {
    "name": "ipython",
    "version": 3
   },
   "file_extension": ".py",
   "mimetype": "text/x-python",
   "name": "python",
   "nbconvert_exporter": "python",
   "pygments_lexer": "ipython3",
   "version": "3.8.5"
  }
 },
 "nbformat": 4,
 "nbformat_minor": 5
}
